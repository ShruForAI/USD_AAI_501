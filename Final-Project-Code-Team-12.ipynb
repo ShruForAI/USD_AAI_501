{
 "cells": [
  {
   "cell_type": "markdown",
   "id": "7e1697ce-153f-4ff1-a634-0f126f63c9d4",
   "metadata": {},
   "source": [
    "# Fake News Detection "
   ]
  },
  {
   "cell_type": "markdown",
   "id": "fbe89458-ca13-4233-b0e0-d668001e1b0f",
   "metadata": {},
   "source": [
    "**Shruthi AK**\n",
    "\n",
    "**12/09/2024**"
   ]
  },
  {
   "cell_type": "markdown",
   "id": "19b1de49-071d-40b1-b6d3-b34b0c941a5e",
   "metadata": {},
   "source": [
    "**Introduction**\n",
    "\n",
    "The proliferation of fake news poses significant challenges to the integrity of information disseminated online. As fake news spreads quickly and influences public opinion, it becomes crucial to develop robust systems to detect and filter out such content. This project aims to create an effective fake news classification system using a combination of machine learning (ML) and deep learning (DL) models. By leveraging both traditional and advanced techniques, we seek to improve the accuracy and reliability of fake news detection.\n",
    "\n",
    "**Dataset**\n",
    "\n",
    "About the Dataset\r\n",
    "This project is based on the dataset comprising true and false news articles with columns for title, text, subject, and date. The dataset includes21,4172 true news articles and23,4813 false news articles. The focus will be on preprocessing this data effectively and implementing the models to achieve the best possible performance in terms of accuracy.\r\n"
   ]
  },
  {
   "cell_type": "code",
   "execution_count": 18,
   "id": "cabe2eba-a46d-443d-bf8c-5da97aa4430f",
   "metadata": {},
   "outputs": [],
   "source": [
    "# Import the necessary libraries\n",
    "import pandas as pd\n",
    "import numpy as np\n",
    "import matplotlib.pyplot as plt\n",
    "from sklearn.model_selection import train_test_split\n",
    "from sklearn.feature_extraction.text import CountVectorizer, TfidfVectorizer\n",
    "from sklearn.linear_model import LogisticRegression\n",
    "from sklearn.naive_bayes import MultinomialNB\n",
    "from sklearn.svm import SVC\n",
    "from sklearn.ensemble import RandomForestClassifier\n",
    "from sklearn.ensemble import GradientBoostingClassifier\n",
    "from sklearn.metrics import accuracy_score, precision_score, recall_score, f1_score, roc_auc_score\n",
    "from sklearn.metrics import classification_report\n",
    "import nltk\n",
    "import tensorflow as tf\n",
    "from tensorflow.keras.preprocessing.text import Tokenizer\n",
    "from tensorflow.keras.preprocessing.sequence import pad_sequences\n",
    "from tensorflow.keras.models import Sequential\n",
    "from tensorflow.keras.layers import Embedding, LSTM, Dense, Dropout, SpatialDropout1D, Flatten, Bidirectional\n",
    "from tensorflow.keras.optimizers import Adam\n",
    "from tensorflow.keras.losses import BinaryCrossentropy\n",
    "from sklearn.preprocessing import LabelEncoder\n",
    "\n",
    "from nltk.corpus import stopwords\n",
    "from nltk.tokenize import word_tokenize\n",
    "from nltk.stem import WordNetLemmatizer\n",
    "import string\n",
    "import warnings\n",
    "warnings.filterwarnings('ignore')"
   ]
  },
  {
   "cell_type": "code",
   "execution_count": 4,
   "id": "3a0b89eb-4393-4095-af25-694fb2c339c1",
   "metadata": {},
   "outputs": [
    {
     "name": "stderr",
     "output_type": "stream",
     "text": [
      "[nltk_data] Downloading package punkt to\n",
      "[nltk_data]     C:\\Users\\shrut\\AppData\\Roaming\\nltk_data...\n",
      "[nltk_data]   Package punkt is already up-to-date!\n",
      "[nltk_data] Downloading package stopwords to\n",
      "[nltk_data]     C:\\Users\\shrut\\AppData\\Roaming\\nltk_data...\n",
      "[nltk_data]   Package stopwords is already up-to-date!\n",
      "[nltk_data] Downloading package wordnet to\n",
      "[nltk_data]     C:\\Users\\shrut\\AppData\\Roaming\\nltk_data...\n",
      "[nltk_data]   Package wordnet is already up-to-date!\n"
     ]
    },
    {
     "data": {
      "text/plain": [
       "True"
      ]
     },
     "execution_count": 4,
     "metadata": {},
     "output_type": "execute_result"
    }
   ],
   "source": [
    "# Download NLTK resources\n",
    "nltk.download('punkt')\n",
    "nltk.download('stopwords')\n",
    "nltk.download('wordnet')"
   ]
  },
  {
   "cell_type": "markdown",
   "id": "ae4cdbbe-d703-48e1-97d6-9cacdadb5b7e",
   "metadata": {},
   "source": [
    "## Data Loading"
   ]
  },
  {
   "cell_type": "code",
   "execution_count": 5,
   "id": "15a351f1-a932-4cb8-bff7-8247400210f6",
   "metadata": {},
   "outputs": [],
   "source": [
    "# Load CSV files\n",
    "true_news_df = pd.read_csv('True.csv')\n",
    "false_news_df = pd.read_csv('Fake.csv')"
   ]
  },
  {
   "cell_type": "markdown",
   "id": "657f7954-0cc1-42fb-bc8c-9848b5cdad52",
   "metadata": {},
   "source": [
    "## Data Preparation"
   ]
  },
  {
   "cell_type": "code",
   "execution_count": 6,
   "id": "677f62d4-8e1f-4f17-8cb4-a23fffa39a23",
   "metadata": {},
   "outputs": [
    {
     "name": "stdout",
     "output_type": "stream",
     "text": [
      "                                               title  \\\n",
      "0  As U.S. budget fight looms, Republicans flip t...   \n",
      "1  U.S. military to accept transgender recruits o...   \n",
      "2  Senior U.S. Republican senator: 'Let Mr. Muell...   \n",
      "3  FBI Russia probe helped by Australian diplomat...   \n",
      "4  Trump wants Postal Service to charge 'much mor...   \n",
      "\n",
      "                                                text       subject  \\\n",
      "0  WASHINGTON (Reuters) - The head of a conservat...  politicsNews   \n",
      "1  WASHINGTON (Reuters) - Transgender people will...  politicsNews   \n",
      "2  WASHINGTON (Reuters) - The special counsel inv...  politicsNews   \n",
      "3  WASHINGTON (Reuters) - Trump campaign adviser ...  politicsNews   \n",
      "4  SEATTLE/WASHINGTON (Reuters) - President Donal...  politicsNews   \n",
      "\n",
      "                 date  label  \n",
      "0  December 31, 2017       1  \n",
      "1  December 29, 2017       1  \n",
      "2  December 31, 2017       1  \n",
      "3  December 30, 2017       1  \n",
      "4  December 29, 2017       1  \n"
     ]
    }
   ],
   "source": [
    "# Combine into a single DataFrame with labels\n",
    "true_news_df['label'] = 1\n",
    "false_news_df['label'] = 0\n",
    "\n",
    "# Concatenate DataFrames\n",
    "df = pd.concat([true_news_df, false_news_df], ignore_index=True)\n",
    "\n",
    "# Check the first few rows\n",
    "print(df.head())"
   ]
  },
  {
   "cell_type": "code",
   "execution_count": 7,
   "id": "57b728c4-35aa-4c8c-83d8-19588cc3d2a2",
   "metadata": {},
   "outputs": [
    {
     "name": "stdout",
     "output_type": "stream",
     "text": [
      "<class 'pandas.core.frame.DataFrame'>\n",
      "RangeIndex: 44898 entries, 0 to 44897\n",
      "Data columns (total 5 columns):\n",
      " #   Column   Non-Null Count  Dtype \n",
      "---  ------   --------------  ----- \n",
      " 0   title    44898 non-null  object\n",
      " 1   text     44898 non-null  object\n",
      " 2   subject  44898 non-null  object\n",
      " 3   date     44898 non-null  object\n",
      " 4   label    44898 non-null  int64 \n",
      "dtypes: int64(1), object(4)\n",
      "memory usage: 1.7+ MB\n"
     ]
    }
   ],
   "source": [
    "# Check the info of the dataframe\n",
    "df.info()"
   ]
  },
  {
   "cell_type": "markdown",
   "id": "0b4a2540-7aa6-442b-92de-1146df4e9bee",
   "metadata": {},
   "source": [
    "**There are No Missing Values**"
   ]
  },
  {
   "cell_type": "code",
   "execution_count": 8,
   "id": "868b0e74-179d-43ce-aa78-cb9620f9760b",
   "metadata": {},
   "outputs": [
    {
     "data": {
      "text/plain": [
       "label\n",
       "0    23481\n",
       "1    21417\n",
       "Name: count, dtype: int64"
      ]
     },
     "execution_count": 8,
     "metadata": {},
     "output_type": "execute_result"
    }
   ],
   "source": [
    "# Check the target variable value counts\n",
    "df['label'].value_counts()"
   ]
  },
  {
   "cell_type": "code",
   "execution_count": 34,
   "id": "fb0a2730-5335-4f4d-96a9-e1d53899fbce",
   "metadata": {},
   "outputs": [
    {
     "data": {
      "text/plain": [
       "label\n",
       "0    0.522985\n",
       "1    0.477015\n",
       "Name: proportion, dtype: float64"
      ]
     },
     "execution_count": 34,
     "metadata": {},
     "output_type": "execute_result"
    }
   ],
   "source": [
    "df['label'].value_counts(normalize=True)"
   ]
  },
  {
   "cell_type": "markdown",
   "id": "9a5e13fe-2213-48f9-b8d3-a00474eae08b",
   "metadata": {},
   "source": [
    "True News: 47.7% of the total dataset\n",
    "\n",
    "Fake News: 52.3% of the total dataset"
   ]
  },
  {
   "cell_type": "code",
   "execution_count": 33,
   "id": "cb10235f-1a98-407d-b732-5aca24127f67",
   "metadata": {},
   "outputs": [
    {
     "data": {
      "image/png": "[encoded data removed]",
      "text/plain": [
       "<Figure size 800x600 with 1 Axes>"
      ]
     },
     "metadata": {},
     "output_type": "display_data"
    }
   ],
   "source": [
    "# Display the count of values for the label\n",
    "label_counts = df['label'].value_counts()\n",
    "\n",
    "# Plotting\n",
    "plt.figure(figsize=(8, 6))\n",
    "bars = label_counts.plot(kind='bar', color=['teal', 'gold'])\n",
    "\n",
    "# Adding count numbers on top of the bars\n",
    "for bar in bars.patches:\n",
    "    height = bar.get_height()\n",
    "    plt.text(bar.get_x() + bar.get_width() / 2, height + 0.5, int(height), ha='center', va='bottom')\n",
    "\n",
    "# Customize the plot\n",
    "plt.title('Count of True and False News')\n",
    "plt.xlabel('Label')\n",
    "plt.ylabel('Count')\n",
    "plt.xticks(rotation=0, ticks=[0, 1], labels=['False News', 'True News'])\n",
    "plt.show()"
   ]
  },
  {
   "cell_type": "markdown",
   "id": "70a9870e-8f49-4d36-ae30-60bfe14ea155",
   "metadata": {},
   "source": [
    "The class distribution shows that the dataset is relatively balanced, with a slight majority of fake news samples. The difference in the number of samples between the two classes is not substantial enough to warrant resampling. Hence we proceed with the data as it is."
   ]
  },
  {
   "cell_type": "markdown",
   "id": "6ab83408-074f-4ea3-bbe7-0f62e7737923",
   "metadata": {},
   "source": [
    "## Data Preprocessing"
   ]
  },
  {
   "cell_type": "code",
   "execution_count": 10,
   "id": "395017e9-4865-429c-a756-69e0db6a55bb",
   "metadata": {},
   "outputs": [],
   "source": [
    "# Initialize the lemmatizer and stopwords\n",
    "lemmatizer = WordNetLemmatizer()\n",
    "stop_words = set(stopwords.words('english'))\n",
    "\n",
    "def preprocess_text(text):\n",
    "    # Tokenize\n",
    "    tokens = word_tokenize(text)\n",
    "    # Convert to lower case\n",
    "    tokens = [word.lower() for word in tokens]\n",
    "    # Remove punctuation\n",
    "    tokens = [word for word in tokens if word.isalnum()]\n",
    "    # Remove stopwords\n",
    "    tokens = [word for word in tokens if word not in stop_words]\n",
    "    # Lemmatize\n",
    "    tokens = [lemmatizer.lemmatize(word) for word in tokens]\n",
    "    # Rejoin tokens into a single string\n",
    "    return ' '.join(tokens)\n",
    "\n",
    "# Apply preprocessing to the 'text' column\n",
    "df['cleaned_text'] = df['text'].apply(preprocess_text)"
   ]
  },
  {
   "cell_type": "markdown",
   "id": "627965f4-b9f5-43da-aff1-f476cea557d8",
   "metadata": {},
   "source": [
    "## Data Splitting"
   ]
  },
  {
   "cell_type": "code",
   "execution_count": 11,
   "id": "c039d460-55ef-4fb8-ba97-83c05601a2b2",
   "metadata": {},
   "outputs": [],
   "source": [
    "# Split Data into Training and Testing Sets\n",
    "X_train, X_test, y_train, y_test = train_test_split(df['cleaned_text'], df['label'], test_size=0.2, random_state=42)"
   ]
  },
  {
   "cell_type": "markdown",
   "id": "a43ed748-e4cc-4fa3-8475-b7057d679b28",
   "metadata": {},
   "source": [
    "## Vectorization"
   ]
  },
  {
   "cell_type": "code",
   "execution_count": 15,
   "id": "7e44b5c9-471a-41a1-a1c9-4ebbd9999136",
   "metadata": {},
   "outputs": [],
   "source": [
    "# Initialize the TF-IDF Vectorizer\n",
    "tfidf_vectorizer = TfidfVectorizer()\n",
    "\n",
    "# Fit and transform the training data\n",
    "X_train_tfidf = tfidf_vectorizer.fit_transform(X_train)\n",
    "\n",
    "# Transform the test data\n",
    "X_test_tfidf = tfidf_vectorizer.transform(X_test)"
   ]
  },
  {
   "cell_type": "markdown",
   "id": "289a735b-9655-4419-afa1-65f3fb63262c",
   "metadata": {},
   "source": [
    "## ML Models"
   ]
  },
  {
   "cell_type": "markdown",
   "id": "934e470d-95b3-49a2-b16d-3e62852dc25d",
   "metadata": {},
   "source": [
    "### 1. Logistic Regression\n",
    "Logistic Regression is a linear model used for binary classification tasks. It estimates the probability that a given input belongs to a particular class. The logistic function (sigmoid) is used to map predicted values to probabilities."
   ]
  },
  {
   "cell_type": "code",
   "execution_count": 11,
   "id": "44a26036-70c7-40c4-a445-2a24ffba1481",
   "metadata": {},
   "outputs": [
    {
     "name": "stdout",
     "output_type": "stream",
     "text": [
      "Classification Report ( Logistic Regression):\n",
      "              precision    recall  f1-score   support\n",
      "\n",
      "           0       0.99      0.98      0.99      4650\n",
      "           1       0.98      0.99      0.99      4330\n",
      "\n",
      "    accuracy                           0.99      8980\n",
      "   macro avg       0.99      0.99      0.99      8980\n",
      "weighted avg       0.99      0.99      0.99      8980\n",
      "\n"
     ]
    }
   ],
   "source": [
    "# Initialize Logistic Regression model\n",
    "logistic_regression = LogisticRegression()\n",
    "\n",
    "# Train the model\n",
    "logistic_regression.fit(X_train_tfidf, y_train)\n",
    "\n",
    "# Predict on the test set\n",
    "y_pred_lr = logistic_regression.predict(X_test_tfidf)\n",
    "\n",
    "# Evaluate the model\n",
    "print(\"Classification Report ( Logistic Regression):\")\n",
    "print(classification_report(y_test, y_pred_lr))"
   ]
  },
  {
   "cell_type": "markdown",
   "id": "4f68e49f-62c9-49fb-bd7c-141a9088da16",
   "metadata": {},
   "source": [
    "### 2. Multinomial Naive Bayes\n",
    "Multinomial Naive Bayes is a probabilistic algorithm based on Bayes' theorem. It assumes independence among features and is particularly effective for text classification tasks."
   ]
  },
  {
   "cell_type": "code",
   "execution_count": 12,
   "id": "64634745-b7a7-4594-ab0e-d24c4c261ba3",
   "metadata": {},
   "outputs": [
    {
     "name": "stdout",
     "output_type": "stream",
     "text": [
      "Classification Report (Naive Bayes):\n",
      "              precision    recall  f1-score   support\n",
      "\n",
      "           0       0.93      0.94      0.94      4650\n",
      "           1       0.93      0.93      0.93      4330\n",
      "\n",
      "    accuracy                           0.93      8980\n",
      "   macro avg       0.93      0.93      0.93      8980\n",
      "weighted avg       0.93      0.93      0.93      8980\n",
      "\n"
     ]
    }
   ],
   "source": [
    "# Initialize the model\n",
    "ml_model = MultinomialNB()\n",
    "\n",
    "# Train the model\n",
    "ml_model.fit(X_train_tfidf, y_train)\n",
    "\n",
    "# Predict on the test set\n",
    "y_pred = ml_model.predict(X_test_tfidf)\n",
    "\n",
    "# Evaluate the model\n",
    "print(\"Classification Report (Naive Bayes):\")\n",
    "print(classification_report(y_test, y_pred))"
   ]
  },
  {
   "cell_type": "markdown",
   "id": "151787d2-fe80-491f-a885-89082da99806",
   "metadata": {},
   "source": [
    "### 3. Support Vector Machines (SVM)\n",
    "SVM is a powerful classification algorithm that finds the hyperplane that best separates the classes in the feature space. It is effective in high-dimensional spaces and for cases where the number of dimensions exceeds the number of samples."
   ]
  },
  {
   "cell_type": "code",
   "execution_count": 13,
   "id": "e5d1b96e-9fb4-4bba-9fcf-42b72affc163",
   "metadata": {},
   "outputs": [
    {
     "name": "stdout",
     "output_type": "stream",
     "text": [
      "Classification Report (SVM):\n",
      "              precision    recall  f1-score   support\n",
      "\n",
      "           0       1.00      0.99      0.99      4650\n",
      "           1       0.99      1.00      0.99      4330\n",
      "\n",
      "    accuracy                           0.99      8980\n",
      "   macro avg       0.99      0.99      0.99      8980\n",
      "weighted avg       0.99      0.99      0.99      8980\n",
      "\n"
     ]
    }
   ],
   "source": [
    "# Initialize the model\n",
    "svm_model = SVC(kernel='linear')\n",
    "\n",
    "# Train the model\n",
    "svm_model.fit(X_train_tfidf, y_train)\n",
    "\n",
    "# Predict on the test set\n",
    "y_pred = svm_model.predict(X_test_tfidf)\n",
    "\n",
    "# Evaluate the model\n",
    "print(\"Classification Report (SVM):\")\n",
    "print(classification_report(y_test, y_pred))"
   ]
  },
  {
   "cell_type": "markdown",
   "id": "d837cf0a-14c8-4fc7-95c6-e223615a799f",
   "metadata": {},
   "source": [
    "### 4. Random Forest Classifier\n",
    "Random Forest is an ensemble learning method that constructs multiple decision trees and merges them to get a more accurate and stable prediction. It handles overfitting well and provides a good balance between bias and variance."
   ]
  },
  {
   "cell_type": "code",
   "execution_count": 13,
   "id": "de4dd1dc-2b40-4c76-9990-a2ddedb1805d",
   "metadata": {},
   "outputs": [
    {
     "name": "stdout",
     "output_type": "stream",
     "text": [
      "Classification Report (Random Forest):\n",
      "              precision    recall  f1-score   support\n",
      "\n",
      "           0       0.99      0.99      0.99      4650\n",
      "           1       0.99      0.99      0.99      4330\n",
      "\n",
      "    accuracy                           0.99      8980\n",
      "   macro avg       0.99      0.99      0.99      8980\n",
      "weighted avg       0.99      0.99      0.99      8980\n",
      "\n"
     ]
    }
   ],
   "source": [
    "# Initialize the model\n",
    "rf_model = RandomForestClassifier(n_estimators=100, random_state=42)\n",
    "\n",
    "# Train the model\n",
    "rf_model.fit(X_train_tfidf, y_train)\n",
    "\n",
    "# Predict on the test set\n",
    "y_pred = rf_model.predict(X_test_tfidf)\n",
    "\n",
    "# Evaluate the model\n",
    "print(\"Classification Report (Random Forest):\")\n",
    "print(classification_report(y_test, y_pred))"
   ]
  },
  {
   "cell_type": "markdown",
   "id": "05b7569b-6459-4727-ab93-42ad86736b1f",
   "metadata": {},
   "source": [
    "### 5. Gradient Boosting Classifier\n",
    "Gradient Boosting is an ensemble technique that builds models sequentially, each trying to correct the errors of the previous one. It combines weak learners to create a strong learner."
   ]
  },
  {
   "cell_type": "code",
   "execution_count": 15,
   "id": "7413e5f4-5970-47d9-8568-055ea23f0ba2",
   "metadata": {},
   "outputs": [
    {
     "name": "stdout",
     "output_type": "stream",
     "text": [
      "Classification Report (Gradient Boosting):\n",
      "              precision    recall  f1-score   support\n",
      "\n",
      "           0       1.00      0.99      1.00      4650\n",
      "           1       0.99      1.00      0.99      4330\n",
      "\n",
      "    accuracy                           0.99      8980\n",
      "   macro avg       0.99      0.99      0.99      8980\n",
      "weighted avg       0.99      0.99      0.99      8980\n",
      "\n"
     ]
    }
   ],
   "source": [
    "# Initialize the model\n",
    "gb_model = GradientBoostingClassifier(n_estimators=100, random_state=42)\n",
    "\n",
    "# Train the model\n",
    "gb_model.fit(X_train_tfidf, y_train)\n",
    "\n",
    "# Predict on the test set\n",
    "y_pred = gb_model.predict(X_test_tfidf)\n",
    "\n",
    "# Evaluate the model\n",
    "print(\"Classification Report (Gradient Boosting):\")\n",
    "print(classification_report(y_test, y_pred))"
   ]
  },
  {
   "cell_type": "markdown",
   "id": "2c421fbb-3ce6-4236-a5ac-ef6bcac3820b",
   "metadata": {},
   "source": [
    "## Tokenization and Padding\n",
    "First, we need to tokenize the text data and then pad the sequences so they all have the same length. We'll use Tokenizer from Keras for this purpose."
   ]
  },
  {
   "cell_type": "code",
   "execution_count": 16,
   "id": "ae1a584a-0048-412e-9be7-d4641301a456",
   "metadata": {},
   "outputs": [],
   "source": [
    "# Define parameters\n",
    "max_features = 10000  # Vocabulary size\n",
    "max_len = 200         # Maximum length of sequences\n",
    "\n",
    "# Initialize the tokenizer\n",
    "tokenizer = Tokenizer(num_words=max_features)\n",
    "\n",
    "# Fit the tokenizer on the training data\n",
    "tokenizer.fit_on_texts(X_train)\n",
    "\n",
    "# Convert text to sequences\n",
    "X_train_tokenized = tokenizer.texts_to_sequences(X_train)\n",
    "X_test_tokenized = tokenizer.texts_to_sequences(X_test)\n",
    "\n",
    "# Pad sequences to the same length\n",
    "X_train_pad = pad_sequences(X_train_tokenized, maxlen=max_len)\n",
    "X_test_pad = pad_sequences(X_test_tokenized, maxlen=max_len)"
   ]
  },
  {
   "cell_type": "markdown",
   "id": "9a44e1b6-011f-40ad-9544-478d916f6a61",
   "metadata": {},
   "source": [
    "## Deep Learning Models"
   ]
  },
  {
   "cell_type": "markdown",
   "id": "c5bca183-a9d5-40b6-b7c8-674542b8e23c",
   "metadata": {},
   "source": [
    "### 1. Deep Neural Network (DNN)\n",
    "DNNs are multi-layer neural networks that can model complex relationships in the data. They consist of input, hidden, and output layers, with each layer containing multiple neurons."
   ]
  },
  {
   "cell_type": "code",
   "execution_count": 17,
   "id": "3f7e6297-e82b-4280-a598-843f2acd745b",
   "metadata": {},
   "outputs": [
    {
     "name": "stdout",
     "output_type": "stream",
     "text": [
      "Epoch 1/5\n",
      "\u001b[1m449/449\u001b[0m \u001b[32m━━━━━━━━━━━━━━━━━━━━\u001b[0m\u001b[37m\u001b[0m \u001b[1m27s\u001b[0m 53ms/step - accuracy: 0.8949 - loss: 0.2276 - val_accuracy: 0.9829 - val_loss: 0.0464\n",
      "Epoch 2/5\n",
      "\u001b[1m449/449\u001b[0m \u001b[32m━━━━━━━━━━━━━━━━━━━━\u001b[0m\u001b[37m\u001b[0m \u001b[1m22s\u001b[0m 49ms/step - accuracy: 0.9987 - loss: 0.0058 - val_accuracy: 0.9894 - val_loss: 0.0354\n",
      "Epoch 3/5\n",
      "\u001b[1m449/449\u001b[0m \u001b[32m━━━━━━━━━━━━━━━━━━━━\u001b[0m\u001b[37m\u001b[0m \u001b[1m24s\u001b[0m 54ms/step - accuracy: 0.9999 - loss: 0.0010 - val_accuracy: 0.9882 - val_loss: 0.0411\n",
      "Epoch 4/5\n",
      "\u001b[1m449/449\u001b[0m \u001b[32m━━━━━━━━━━━━━━━━━━━━\u001b[0m\u001b[37m\u001b[0m \u001b[1m27s\u001b[0m 60ms/step - accuracy: 1.0000 - loss: 8.8648e-04 - val_accuracy: 0.9878 - val_loss: 0.0439\n",
      "Epoch 5/5\n",
      "\u001b[1m449/449\u001b[0m \u001b[32m━━━━━━━━━━━━━━━━━━━━\u001b[0m\u001b[37m\u001b[0m \u001b[1m29s\u001b[0m 64ms/step - accuracy: 0.9999 - loss: 7.7886e-04 - val_accuracy: 0.9878 - val_loss: 0.0474\n",
      "\u001b[1m281/281\u001b[0m \u001b[32m━━━━━━━━━━━━━━━━━━━━\u001b[0m\u001b[37m\u001b[0m \u001b[1m2s\u001b[0m 7ms/step - accuracy: 0.9881 - loss: 0.0451\n",
      "Loss: 0.04560296982526779, Accuracy: 0.9888641238212585\n"
     ]
    }
   ],
   "source": [
    "# Define model architecture\n",
    "dnn_model = Sequential([\n",
    "    Embedding(input_dim=max_features, output_dim=128, input_length=max_len),\n",
    "    Flatten(),\n",
    "    Dense(128, activation='relu'),\n",
    "    Dropout(0.5),\n",
    "    Dense(1, activation='sigmoid')\n",
    "])\n",
    "\n",
    "# Compile the model\n",
    "dnn_model.compile(optimizer='adam', loss='binary_crossentropy', metrics=['accuracy'])\n",
    "\n",
    "# Train the model\n",
    "history = dnn_model.fit(X_train_pad, y_train, epochs=5, batch_size=64, validation_split=0.2)\n",
    "\n",
    "# Evaluate the model\n",
    "loss, accuracy = dnn_model.evaluate(X_test_pad, y_test)\n",
    "print(f'Loss: {loss}, Accuracy: {accuracy}')"
   ]
  },
  {
   "cell_type": "markdown",
   "id": "bb7c444d-8e00-4353-839f-86ce5902f79d",
   "metadata": {},
   "source": [
    "### 2. Long Short-Term Memory (LSTM)\n",
    "LSTM is a type of recurrent neural network (RNN) capable of learning long-term dependencies. It is well-suited for sequence classification tasks like text classification."
   ]
  },
  {
   "cell_type": "code",
   "execution_count": 18,
   "id": "df5caee2-dfdc-420f-abb6-7fed5f5725f9",
   "metadata": {},
   "outputs": [
    {
     "name": "stdout",
     "output_type": "stream",
     "text": [
      "Epoch 1/5\n",
      "\u001b[1m449/449\u001b[0m \u001b[32m━━━━━━━━━━━━━━━━━━━━\u001b[0m\u001b[37m\u001b[0m \u001b[1m243s\u001b[0m 522ms/step - accuracy: 0.8975 - loss: 0.2506 - val_accuracy: 0.9738 - val_loss: 0.0766\n",
      "Epoch 2/5\n",
      "\u001b[1m449/449\u001b[0m \u001b[32m━━━━━━━━━━━━━━━━━━━━\u001b[0m\u001b[37m\u001b[0m \u001b[1m226s\u001b[0m 503ms/step - accuracy: 0.9855 - loss: 0.0490 - val_accuracy: 0.9844 - val_loss: 0.0573\n",
      "Epoch 3/5\n",
      "\u001b[1m449/449\u001b[0m \u001b[32m━━━━━━━━━━━━━━━━━━━━\u001b[0m\u001b[37m\u001b[0m \u001b[1m240s\u001b[0m 536ms/step - accuracy: 0.9864 - loss: 0.0431 - val_accuracy: 0.9897 - val_loss: 0.0353\n",
      "Epoch 4/5\n",
      "\u001b[1m449/449\u001b[0m \u001b[32m━━━━━━━━━━━━━━━━━━━━\u001b[0m\u001b[37m\u001b[0m \u001b[1m248s\u001b[0m 552ms/step - accuracy: 0.9939 - loss: 0.0188 - val_accuracy: 0.9747 - val_loss: 0.0743\n",
      "Epoch 5/5\n",
      "\u001b[1m449/449\u001b[0m \u001b[32m━━━━━━━━━━━━━━━━━━━━\u001b[0m\u001b[37m\u001b[0m \u001b[1m251s\u001b[0m 527ms/step - accuracy: 0.9924 - loss: 0.0264 - val_accuracy: 0.9893 - val_loss: 0.0385\n",
      "\u001b[1m281/281\u001b[0m \u001b[32m━━━━━━━━━━━━━━━━━━━━\u001b[0m\u001b[37m\u001b[0m \u001b[1m27s\u001b[0m 97ms/step - accuracy: 0.9872 - loss: 0.0412\n",
      "Loss: 0.0416342057287693, Accuracy: 0.9877505302429199\n"
     ]
    }
   ],
   "source": [
    "# Define model architecture\n",
    "lstm_model = Sequential([\n",
    "    Embedding(input_dim=max_features, output_dim=128, input_length=max_len),\n",
    "    LSTM(128, return_sequences=True),\n",
    "    LSTM(64),\n",
    "    Dense(1, activation='sigmoid')\n",
    "])\n",
    "\n",
    "# Compile the model\n",
    "lstm_model.compile(optimizer='adam', loss='binary_crossentropy', metrics=['accuracy'])\n",
    "\n",
    "# Train the model\n",
    "history = lstm_model.fit(X_train_pad, y_train, epochs=5, batch_size=64, validation_split=0.2)\n",
    "\n",
    "# Evaluate the model\n",
    "loss, accuracy = lstm_model.evaluate(X_test_pad, y_test)\n",
    "print(f'Loss: {loss}, Accuracy: {accuracy}')"
   ]
  },
  {
   "cell_type": "markdown",
   "id": "86e1848a-5eaa-4a15-b96e-2faa09da6f67",
   "metadata": {},
   "source": [
    "### 3. Bidirectional LSTM\n",
    "Bidirectional LSTM (BiLSTM) captures information from both past and future states, making it more effective for sequence classification tasks."
   ]
  },
  {
   "cell_type": "code",
   "execution_count": 19,
   "id": "a969e877-a250-45e3-a0d7-276ea7e5fcda",
   "metadata": {},
   "outputs": [
    {
     "name": "stdout",
     "output_type": "stream",
     "text": [
      "Epoch 1/5\n",
      "\u001b[1m449/449\u001b[0m \u001b[32m━━━━━━━━━━━━━━━━━━━━\u001b[0m\u001b[37m\u001b[0m \u001b[1m302s\u001b[0m 653ms/step - accuracy: 0.8973 - loss: 0.2408 - val_accuracy: 0.9749 - val_loss: 0.0718\n",
      "Epoch 2/5\n",
      "\u001b[1m449/449\u001b[0m \u001b[32m━━━━━━━━━━━━━━━━━━━━\u001b[0m\u001b[37m\u001b[0m \u001b[1m281s\u001b[0m 625ms/step - accuracy: 0.9818 - loss: 0.0565 - val_accuracy: 0.9823 - val_loss: 0.0596\n",
      "Epoch 3/5\n",
      "\u001b[1m449/449\u001b[0m \u001b[32m━━━━━━━━━━━━━━━━━━━━\u001b[0m\u001b[37m\u001b[0m \u001b[1m269s\u001b[0m 598ms/step - accuracy: 0.9865 - loss: 0.0410 - val_accuracy: 0.9859 - val_loss: 0.0420\n",
      "Epoch 4/5\n",
      "\u001b[1m449/449\u001b[0m \u001b[32m━━━━━━━━━━━━━━━━━━━━\u001b[0m\u001b[37m\u001b[0m \u001b[1m305s\u001b[0m 680ms/step - accuracy: 0.9943 - loss: 0.0161 - val_accuracy: 0.9811 - val_loss: 0.0494\n",
      "Epoch 5/5\n",
      "\u001b[1m449/449\u001b[0m \u001b[32m━━━━━━━━━━━━━━━━━━━━\u001b[0m\u001b[37m\u001b[0m \u001b[1m313s\u001b[0m 697ms/step - accuracy: 0.9984 - loss: 0.0065 - val_accuracy: 0.9900 - val_loss: 0.0322\n",
      "\u001b[1m281/281\u001b[0m \u001b[32m━━━━━━━━━━━━━━━━━━━━\u001b[0m\u001b[37m\u001b[0m \u001b[1m26s\u001b[0m 93ms/step - accuracy: 0.9871 - loss: 0.0399\n",
      "Loss: 0.03403124213218689, Accuracy: 0.988418698310852\n"
     ]
    }
   ],
   "source": [
    "# Define model architecture\n",
    "bi_lstm_model = Sequential([\n",
    "    Embedding(input_dim=max_features, output_dim=128, input_length=max_len),\n",
    "    Bidirectional(LSTM(128)),\n",
    "    Dense(1, activation='sigmoid')\n",
    "])\n",
    "\n",
    "# Compile the model\n",
    "bi_lstm_model.compile(optimizer='adam', loss='binary_crossentropy', metrics=['accuracy'])\n",
    "\n",
    "# Train the model\n",
    "history = bi_lstm_model.fit(X_train_pad, y_train, epochs=5, batch_size=64, validation_split=0.2)\n",
    "\n",
    "# Evaluate the model\n",
    "loss, accuracy = bi_lstm_model.evaluate(X_test_pad, y_test)\n",
    "print(f'Loss: {loss}, Accuracy: {accuracy}')\n"
   ]
  },
  {
   "cell_type": "markdown",
   "id": "6d482e63-491d-4598-b9c5-4f9420647577",
   "metadata": {},
   "source": [
    "## Model Comparison"
   ]
  },
  {
   "cell_type": "markdown",
   "id": "7578ffa9-6cda-47e9-b45e-a3709470c636",
   "metadata": {},
   "source": [
    "### Best ML Model"
   ]
  },
  {
   "cell_type": "markdown",
   "id": "2aa8ba2a-f2b2-4e6a-8bde-8461174b0f0b",
   "metadata": {},
   "source": [
    "As all the ML models that we have built, other than Multinomial Naive Bayes, are providing the same accuracy and other metrics like precision, recall, and F1-score, I have chosen the Random Forest Classifier for the following reasons:\n",
    "\n",
    "**Random Forest Classifier**\n",
    "\n",
    "Random Forest is an ensemble learning method that constructs multiple decision trees during training and outputs the mode of the classes (classification) of the individual trees. The idea behind Random Forest is to create a 'forest' of trees, each trained on a random subset of data and features, and then combine their predictions to improve accuracy and control overfitting.\n",
    "\n",
    "**Advantages of Random Forest:**\n",
    "\n",
    "Reduced Overfitting: By averaging the predictions of multiple trees, Random Forest reduces the risk of overfitting, which is a common problem in decision trees.\n",
    "\n",
    "Versatility: It can handle both classification and regression tasks and works well with high-dimensional data.\n",
    "\n",
    "Feature Importance: Provides insights into feature importance, aiding in feature selection and understanding the model.\n",
    "\n",
    "**Performance Metrics:**\n",
    "\n",
    "Accuracy: Random Forest achieved an accuracy of 99%, which is on par with other models but with additional benefits of robustness and interpretability.\n",
    "\n",
    "Precision, Recall, F1-Score: These metrics were equally high, indicating that Random Forest performs well in identifying both true positives and negatives.\n",
    "\n",
    "**Why Choose Random Forest Classifier?**\n",
    "\n",
    "Interpretability:\n",
    "\n",
    "Feature Importance: Random Forest provides feature importance scores, which help in understanding the influence of each feature on the predictions.\n",
    "Partial Dependence Plots: These plots can show the effect of a single feature on the target prediction, making the model somewhat interpretable.\n",
    "\n",
    "Robustness:\n",
    "\n",
    "Handling Overfitting: Random Forest reduces the risk of overfitting by averaging the results of multiple decision trees, which makes it more robust compared to single models.\n",
    "Handling Missing Values: Random Forest can handle missing values naturally by splitting on other features.\n",
    "\n",
    "Performance:\n",
    "\n",
    "Non-linear Relationships: Random Forest can capture non-linear relationships between features and the target variable, often leading to better performance compared to linear models.\n",
    "High Accuracy: Random Forest tends to achieve high accuracy, especially with well-tuned hyperparameters.\n",
    "\n",
    "Efficiency:\n",
    "\n",
    "Training Time: While slower than Logistic Regression, Random Forest is relatively faster than Gradient Boosting algorithms, making it a good compromise.\n",
    "Parallel Processing: Random Forest can be parallelized, leveraging multi-core processors for faster training and prediction.\n",
    "\n",
    "Scalability:\n",
    "\n",
    "Large Datasets: Random Forest can handle large datasets efficiently, making it suitable for your project.\n",
    "\n",
    "**Result**\n",
    "\n",
    "Choosing the Random Forest Classifier is a balanced decision considering the high accuracy, interpretability, and robustness. It provides a good trade-off between performance and usability, making it suitable for the fake news detection project."
   ]
  },
  {
   "cell_type": "markdown",
   "id": "acaed7a0-2538-4ac0-9678-49c2413bb714",
   "metadata": {},
   "source": [
    "### Best DL Model"
   ]
  },
  {
   "cell_type": "markdown",
   "id": "bf33cd9d-8225-4d38-a34b-9bf068226f2f",
   "metadata": {},
   "source": [
    "As all the deep learning models that we have built are providing similar accuracy and other metrics, I have chosen the Bidirectional LSTM for the following reasons:\n",
    "\n",
    "**Bidirectional LSTM**\n",
    "\n",
    "Bidirectional Long Short-Term Memory (LSTM) is an advanced version of the traditional LSTM model, which processes data in both forward and backward directions. This helps in capturing contextual information from both the past and the future, leading to a better understanding of the sequence.\n",
    "\n",
    "**Advantages of Bidirectional LSTM:**\n",
    "\n",
    "Contextual Understanding:\n",
    "\n",
    "Bidirectional Processing: It captures dependencies from both directions, which is beneficial for text data where context is crucial.\n",
    "\n",
    "Improved Performance:\n",
    "\n",
    "Lower Loss: The Bidirectional LSTM achieved the lowest loss among the models, indicating better fit and potentially better generalization to unseen data.\n",
    "\n",
    "High Accuracy: It achieved high accuracy (98.84%), which is competitive with the other models.\n",
    "\n",
    "Handling Sequential Data:\n",
    "\n",
    "Complex Patterns: It captures complex sequential patterns, making it ideal for tasks involving text data.\n",
    "\n",
    "Performance Metrics:\n",
    "\n",
    "Accuracy: The Bidirectional LSTM achieved an accuracy of 98.84%, which is competitive with the other models but with a better loss value.\n",
    "\n",
    "Loss: The model achieved the lowest loss (0.0340), indicating a better fit to the data.\n",
    "\n",
    "**Why Choose Bidirectional LSTM?**\n",
    "\n",
    "Contextual Awareness:\n",
    "\n",
    "Forward and Backward Processing: The bidirectional nature of the model allows it to understand the context better, which is crucial for fake news detection.\n",
    "\n",
    "Performance Metrics:\n",
    "\n",
    "Lower Loss and High Accuracy: The combination of high accuracy and low loss makes it a robust choice for the task.\n",
    "\n",
    "Handling Sequential Data:\n",
    "\n",
    "Capturing Dependencies: It captures sequential dependencies better than a unidirectional LSTM, leading to improved performance in NLP tasks.\n",
    "\n",
    "**Result**\n",
    "\n",
    "Choosing the Bidirectional LSTM model is a balanced decision considering its ability to understand complex sequential data, high accuracy, and lower loss. It provides a robust and comprehensive solution for the fake news detection project."
   ]
  },
  {
   "cell_type": "markdown",
   "id": "7a9cbe74-81b8-49f6-a1c7-58398e727cca",
   "metadata": {},
   "source": [
    "## Conclusion"
   ]
  },
  {
   "cell_type": "markdown",
   "id": "847a9aaf-c19d-48e0-8cd1-83995e05c5bd",
   "metadata": {},
   "source": [
    "This project demonstrates the effectiveness of using machine learning and deep learning models for fake news classification. Both the Random Forest Classifier and Bidirectional LSTM showed promising results. Future work could explore the integration of more sophisticated NLP techniques and the use of larger datasets to further improve model performance."
   ]
  },
  {
   "cell_type": "code",
   "execution_count": null,
   "id": "14ccd893-e8d7-40bb-9071-1be53d1d91bc",
   "metadata": {},
   "outputs": [],
   "source": []
  }
 ],
 "metadata": {
  "kernelspec": {
   "display_name": "Python 3 (ipykernel)",
   "language": "python",
   "name": "python3"
  },
  "language_info": {
   "codemirror_mode": {
    "name": "ipython",
    "version": 3
   },
   "file_extension": ".py",
   "mimetype": "text/x-python",
   "name": "python",
   "nbconvert_exporter": "python",
   "pygments_lexer": "ipython3",
   "version": "3.11.7"
  }
 },
 "nbformat": 4,
 "nbformat_minor": 5
}
